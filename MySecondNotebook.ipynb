{
 "cells": [
  {
   "cell_type": "code",
   "execution_count": 3,
   "metadata": {},
   "outputs": [
    {
     "name": "stdout",
     "output_type": "stream",
     "text": [
      "Harsith Sangar 2024\n",
      "UCSC 2002\n"
     ]
    }
   ],
   "source": [
    "class person:\n",
    "    def __init__(self,fname,lname,year):\n",
    "        self.firstname = fname\n",
    "        self.lastname = lname\n",
    "        self.birthyear= year\n",
    "\n",
    "    def printName(self):\n",
    "        print(self.firstname,self.lastname,self.birthyear)\n",
    "\n",
    "class child(person):\n",
    "    pass \n",
    "\n",
    "c1 = child(\"Harsith\",\"Sangar\",2024)\n",
    "c1.printName()\n",
    "\n",
    "class university:\n",
    "    def __init__(self,name,year):\n",
    "        self.name = name\n",
    "        self.year = year\n",
    "\n",
    "campus = university(\"UCSC\",2002)\n",
    "print(campus.name,campus.year)"
   ]
  },
  {
   "cell_type": "code",
   "execution_count": null,
   "metadata": {},
   "outputs": [],
   "source": []
  }
 ],
 "metadata": {
  "kernelspec": {
   "display_name": "Python 3",
   "language": "python",
   "name": "python3"
  },
  "language_info": {
   "codemirror_mode": {
    "name": "ipython",
    "version": 3
   },
   "file_extension": ".py",
   "mimetype": "text/x-python",
   "name": "python",
   "nbconvert_exporter": "python",
   "pygments_lexer": "ipython3",
   "version": "3.12.3"
  }
 },
 "nbformat": 4,
 "nbformat_minor": 2
}
