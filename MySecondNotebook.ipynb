{
 "cells": [
  {
   "cell_type": "code",
   "execution_count": 3,
   "metadata": {},
   "outputs": [
    {
     "name": "stdout",
     "output_type": "stream",
     "text": [
      "Harsith Sangar 2024\n",
      "UCSC 2002\n"
     ]
    }
   ],
   "source": [
    "class person:\n",
    "    def __init__(self,fname,lname,year):\n",
    "        self.firstname = fname\n",
    "        self.lastname = lname\n",
    "        self.birthyear= year\n",
    "\n",
    "    def printName(self):\n",
    "        print(self.firstname,self.lastname,self.birthyear)\n",
    "\n",
    "class child(person):\n",
    "    pass \n",
    "\n",
    "c1 = child(\"Harsith\",\"Sangar\",2024)\n",
    "c1.printName()\n",
    "\n",
    "class university:\n",
    "    def __init__(self,name,year):\n",
    "        self.name = name\n",
    "        self.year = year\n",
    "\n",
    "campus = university(\"UCSC\",2002)\n",
    "print(campus.name,campus.year)"
   ]
  },
  {
   "cell_type": "code",
   "execution_count": 4,
   "metadata": {},
   "outputs": [
    {
     "name": "stdout",
     "output_type": "stream",
     "text": [
      "Student_ID:2022is097 Student_Name:A Sujanasrishayan\n"
     ]
    }
   ],
   "source": [
    "class student:\n",
    "    def __init__(self,stuid,name):\n",
    "        self.stuid = stuid\n",
    "        self.name = name\n",
    "\n",
    "    def __str__(self):\n",
    "        return f\"Student_ID:{self.stuid} Student_Name:{self.name}\"\n",
    "\n",
    "pupil = student(\"2022is097\",\"A Sujanasrishayan\")\n",
    "print(pupil)\n"
   ]
  },
  {
   "cell_type": "code",
   "execution_count": 5,
   "metadata": {},
   "outputs": [
    {
     "name": "stdout",
     "output_type": "stream",
     "text": [
      "Car Model: Toyota\n",
      "Car Name: Rush\n"
     ]
    }
   ],
   "source": [
    "class vehicle:\n",
    "    def __init__(self,model,name):\n",
    "        self.model = model\n",
    "        self.name = name\n",
    "\n",
    "    def printName(self):\n",
    "        print(\"Car Model:\",self.model)\n",
    "        print(\"Car Name:\",self.name)\n",
    "\n",
    "car = vehicle(\"Toyota\",\"Rush\")\n",
    "car.printName()"
   ]
  },
  {
   "cell_type": "code",
   "execution_count": null,
   "metadata": {},
   "outputs": [],
   "source": []
  }
 ],
 "metadata": {
  "kernelspec": {
   "display_name": "Python 3",
   "language": "python",
   "name": "python3"
  },
  "language_info": {
   "codemirror_mode": {
    "name": "ipython",
    "version": 3
   },
   "file_extension": ".py",
   "mimetype": "text/x-python",
   "name": "python",
   "nbconvert_exporter": "python",
   "pygments_lexer": "ipython3",
   "version": "3.12.3"
  }
 },
 "nbformat": 4,
 "nbformat_minor": 2
}
