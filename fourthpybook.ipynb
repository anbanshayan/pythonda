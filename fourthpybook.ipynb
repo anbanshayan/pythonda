{
 "cells": [
  {
   "cell_type": "code",
   "execution_count": 2,
   "metadata": {},
   "outputs": [
    {
     "name": "stdout",
     "output_type": "stream",
     "text": [
      "22020977_Anbashayan\n"
     ]
    }
   ],
   "source": [
    "class Person:\n",
    "    def __init__(self,id,name):\n",
    "        self.id = id\n",
    "        self.name = name\n",
    "\n",
    "    def __str__(self):\n",
    "        return f\"{self.id}_{self.name}\"\n",
    "\n",
    "class Student(Person):\n",
    "    pass\n",
    "\n",
    "student1=Student(\"22020977\",\"Anbashayan\")\n",
    "print(student1)"
   ]
  },
  {
   "cell_type": "code",
   "execution_count": 3,
   "metadata": {},
   "outputs": [
    {
     "name": "stdout",
     "output_type": "stream",
     "text": [
      "Lucky makes Barks\n"
     ]
    }
   ],
   "source": [
    "class Animal:\n",
    "    def __init__(self,name,sound):\n",
    "        self.name = name\n",
    "        self.sound = sound\n",
    "\n",
    "    def __str__(self):\n",
    "        return f\"{self.name} makes {self.sound}\"\n",
    "    \n",
    "class Dog(Animal):\n",
    "    pass\n",
    "\n",
    "dog = Dog(\"Lucky\",\"Barks\")\n",
    "print(dog)"
   ]
  },
  {
   "cell_type": "code",
   "execution_count": 5,
   "metadata": {},
   "outputs": [
    {
     "name": "stdout",
     "output_type": "stream",
     "text": [
      "UCSC is in Colombo 7\n"
     ]
    }
   ],
   "source": [
    "class University:\n",
    "    def __init__(self,name,district):\n",
    "        self.name = name\n",
    "        self.district = district\n",
    "\n",
    "    def __str__(self):\n",
    "        return f\"{self.name} is in {self.district}\"\n",
    "\n",
    "class UOC(University):\n",
    "    pass\n",
    "\n",
    "UCSC = UOC(\"UCSC\",\"Colombo 7\")\n",
    "print(UCSC)"
   ]
  },
  {
   "cell_type": "code",
   "execution_count": 1,
   "metadata": {},
   "outputs": [
    {
     "name": "stdout",
     "output_type": "stream",
     "text": [
      "Hp Razon\n"
     ]
    }
   ],
   "source": [
    "class Computer:\n",
    "    def __init__(self,model,name):\n",
    "        self.model = model\n",
    "        self.name = name\n",
    "    \n",
    "    def __str__(self):\n",
    "        return f\"{self.model} {self.name}\"\n",
    "    \n",
    "class laptop(Computer):\n",
    "    pass\n",
    "\n",
    "c = laptop(\"Hp\",\"Razon\")\n",
    "print(c)"
   ]
  },
  {
   "cell_type": "code",
   "execution_count": null,
   "metadata": {},
   "outputs": [],
   "source": []
  }
 ],
 "metadata": {
  "kernelspec": {
   "display_name": "Python 3",
   "language": "python",
   "name": "python3"
  },
  "language_info": {
   "codemirror_mode": {
    "name": "ipython",
    "version": 3
   },
   "file_extension": ".py",
   "mimetype": "text/x-python",
   "name": "python",
   "nbconvert_exporter": "python",
   "pygments_lexer": "ipython3",
   "version": "3.12.3"
  }
 },
 "nbformat": 4,
 "nbformat_minor": 2
}
