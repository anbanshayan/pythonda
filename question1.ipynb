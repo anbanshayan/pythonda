{
 "cells": [
  {
   "cell_type": "code",
   "execution_count": 7,
   "metadata": {},
   "outputs": [
    {
     "data": {
      "text/plain": [
       "array([[ 7, -1, -1],\n",
       "       [89, 21, 71],\n",
       "       [53, -1, -1]])"
      ]
     },
     "execution_count": 7,
     "metadata": {},
     "output_type": "execute_result"
    }
   ],
   "source": [
    "#Create a 3x3 NumPy array with random integers between 1 and 100. \n",
    "# Replace all even numbers in the array with -1.\n",
    "\n",
    "import numpy as np\n",
    "\n",
    "a = np.random.randint(1,101,(3,3))\n",
    "a[a%2 ==0] = -1\n",
    "a"
   ]
  },
  {
   "cell_type": "code",
   "execution_count": 9,
   "metadata": {},
   "outputs": [
    {
     "name": "stdout",
     "output_type": "stream",
     "text": [
      "sum of row =  [17 17 25 25]\n",
      "sum of col =  [21 15 32 16]\n"
     ]
    }
   ],
   "source": [
    "#Write a function to calculate the row-wise sum and column-wise sum of a given 4x4 NumPy array.\n",
    "\n",
    "b = np.random.randint(1,11,(4,4))\n",
    "b\n",
    "\n",
    "row_sum = b.sum(axis=0)\n",
    "col_sum = b.sum(axis=1)\n",
    "print(\"sum of row = \",row_sum)\n",
    "print(\"sum of col = \",col_sum)"
   ]
  },
  {
   "cell_type": "code",
   "execution_count": 15,
   "metadata": {},
   "outputs": [
    {
     "data": {
      "text/plain": [
       "array([[0.        , 0.05263158, 0.10526316, 0.15789474, 0.21052632],\n",
       "       [0.26315789, 0.31578947, 0.36842105, 0.42105263, 0.47368421],\n",
       "       [0.52631579, 0.57894737, 0.63157895, 0.68421053, 0.73684211],\n",
       "       [0.78947368, 0.84210526, 0.89473684, 0.94736842, 1.        ]])"
      ]
     },
     "execution_count": 15,
     "metadata": {},
     "output_type": "execute_result"
    }
   ],
   "source": [
    "#Create a 1D NumPy array with 20 equally spaced values between 0 and 1. Then, reshape it into a 4x5 2D array.\n",
    "\n",
    "c = np.linspace(0,1,20)\n",
    "c\n",
    "c_reshape = c.reshape(4,5)\n",
    "c_reshape"
   ]
  },
  {
   "cell_type": "code",
   "execution_count": 21,
   "metadata": {},
   "outputs": [
    {
     "data": {
      "text/plain": [
       "array([[ 74,  53,  53],\n",
       "       [160, 128,  80],\n",
       "       [ 54,  43,  27]])"
      ]
     },
     "execution_count": 21,
     "metadata": {},
     "output_type": "execute_result"
    }
   ],
   "source": [
    "#Given two NumPy arrays, A and B, perform the following operations:\n",
    "\n",
    "    #Element-wise addition\n",
    "    #Element-wise multiplication\n",
    "    #Matrix multiplication\n",
    "\n",
    "a = np.random.randint(1,10,(3,3))\n",
    "b = np.random.randint(1,10,(3,3))\n",
    "\n",
    "    #Element-wise addition\n",
    "a+b\n",
    "    #Element-wise multiplication\n",
    "a*b\n",
    "    #Matrix multiplication\n",
    "matmul = np.matmul(a,b)\n",
    "matmul\n"
   ]
  },
  {
   "cell_type": "code",
   "execution_count": 24,
   "metadata": {},
   "outputs": [
    {
     "data": {
      "text/plain": [
       "array([10, 12, 14, 45, 52, 78, 85, 96])"
      ]
     },
     "execution_count": 24,
     "metadata": {},
     "output_type": "execute_result"
    }
   ],
   "source": [
    "#Write a NumPy program to extract all the unique elements from a given array and sort them in ascending order.\n",
    "f = np.array([45,78,96,52,14,45,85,78,10,12,10])\n",
    "sort = np.unique(f)\n",
    "sort"
   ]
  },
  {
   "cell_type": "code",
   "execution_count": 26,
   "metadata": {},
   "outputs": [
    {
     "data": {
      "text/plain": [
       "array([  1.        ,   3.04081633,   5.08163265,   7.12244898,\n",
       "         9.16326531,  11.20408163,  13.24489796,  15.28571429,\n",
       "        17.32653061,  19.36734694,  21.40816327,  23.44897959,\n",
       "        25.48979592,  27.53061224,  29.57142857,  31.6122449 ,\n",
       "        33.65306122,  35.69387755,  37.73469388,  39.7755102 ,\n",
       "        41.81632653,  43.85714286,  45.89795918,  47.93877551,\n",
       "        49.97959184,  52.02040816,  54.06122449,  56.10204082,\n",
       "        58.14285714,  60.18367347,  62.2244898 ,  64.26530612,\n",
       "        66.30612245,  68.34693878,  70.3877551 ,  72.42857143,\n",
       "        74.46938776,  76.51020408,  78.55102041,  80.59183673,\n",
       "        82.63265306,  84.67346939,  86.71428571,  88.75510204,\n",
       "        90.79591837,  92.83673469,  94.87755102,  96.91836735,\n",
       "        98.95918367, 101.        ])"
      ]
     },
     "execution_count": 26,
     "metadata": {},
     "output_type": "execute_result"
    }
   ],
   "source": [
    "#Create a 1D NumPy array with values ranging from 1 to 100. Then filter and return all the prime numbers from the array.\n",
    "prime = np.linspace(1,101,)\n",
    "prime\n",
    "\n",
    "#prime number function\n",
    "\n",
    "def prime(n):\n",
    "    "
   ]
  },
  {
   "cell_type": "code",
   "execution_count": 32,
   "metadata": {},
   "outputs": [
    {
     "name": "stdout",
     "output_type": "stream",
     "text": [
      "not prime\n"
     ]
    }
   ],
   "source": [
    "def repeat(x):\n",
    "    count = 0    \n",
    "    for i in range(1,x+1):\n",
    "        if x % i ==2:\n",
    "            count += 1\n",
    "    if count ==2:\n",
    "        print(\"prime\")\n",
    "    else:\n",
    "        print(\"not prime\")\n",
    "repeat(5)"
   ]
  },
  {
   "cell_type": "code",
   "execution_count": null,
   "metadata": {},
   "outputs": [],
   "source": []
  }
 ],
 "metadata": {
  "kernelspec": {
   "display_name": "Python 3",
   "language": "python",
   "name": "python3"
  },
  "language_info": {
   "codemirror_mode": {
    "name": "ipython",
    "version": 3
   },
   "file_extension": ".py",
   "mimetype": "text/x-python",
   "name": "python",
   "nbconvert_exporter": "python",
   "pygments_lexer": "ipython3",
   "version": "3.12.3"
  }
 },
 "nbformat": 4,
 "nbformat_minor": 2
}
