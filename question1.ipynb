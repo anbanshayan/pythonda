{
 "cells": [
  {
   "cell_type": "code",
   "execution_count": 7,
   "metadata": {},
   "outputs": [
    {
     "data": {
      "text/plain": [
       "array([[ 7, -1, -1],\n",
       "       [89, 21, 71],\n",
       "       [53, -1, -1]])"
      ]
     },
     "execution_count": 7,
     "metadata": {},
     "output_type": "execute_result"
    }
   ],
   "source": [
    "#Create a 3x3 NumPy array with random integers between 1 and 100. \n",
    "# Replace all even numbers in the array with -1.\n",
    "\n",
    "import numpy as np\n",
    "\n",
    "a = np.random.randint(1,101,(3,3))\n",
    "a[a%2 ==0] = -1\n",
    "a"
   ]
  },
  {
   "cell_type": "code",
   "execution_count": 9,
   "metadata": {},
   "outputs": [
    {
     "name": "stdout",
     "output_type": "stream",
     "text": [
      "sum of row =  [17 17 25 25]\n",
      "sum of col =  [21 15 32 16]\n"
     ]
    }
   ],
   "source": [
    "#Write a function to calculate the row-wise sum and column-wise sum of a given 4x4 NumPy array.\n",
    "\n",
    "b = np.random.randint(1,11,(4,4))\n",
    "b\n",
    "\n",
    "row_sum = b.sum(axis=0)\n",
    "col_sum = b.sum(axis=1)\n",
    "print(\"sum of row = \",row_sum)\n",
    "print(\"sum of col = \",col_sum)"
   ]
  },
  {
   "cell_type": "code",
   "execution_count": 15,
   "metadata": {},
   "outputs": [
    {
     "data": {
      "text/plain": [
       "array([[0.        , 0.05263158, 0.10526316, 0.15789474, 0.21052632],\n",
       "       [0.26315789, 0.31578947, 0.36842105, 0.42105263, 0.47368421],\n",
       "       [0.52631579, 0.57894737, 0.63157895, 0.68421053, 0.73684211],\n",
       "       [0.78947368, 0.84210526, 0.89473684, 0.94736842, 1.        ]])"
      ]
     },
     "execution_count": 15,
     "metadata": {},
     "output_type": "execute_result"
    }
   ],
   "source": [
    "#Create a 1D NumPy array with 20 equally spaced values between 0 and 1. Then, reshape it into a 4x5 2D array.\n",
    "\n",
    "c = np.linspace(0,1,20)\n",
    "c\n",
    "c_reshape = c.reshape(4,5)\n",
    "c_reshape"
   ]
  },
  {
   "cell_type": "code",
   "execution_count": 21,
   "metadata": {},
   "outputs": [
    {
     "data": {
      "text/plain": [
       "array([[ 74,  53,  53],\n",
       "       [160, 128,  80],\n",
       "       [ 54,  43,  27]])"
      ]
     },
     "execution_count": 21,
     "metadata": {},
     "output_type": "execute_result"
    }
   ],
   "source": [
    "#Given two NumPy arrays, A and B, perform the following operations:\n",
    "\n",
    "    #Element-wise addition\n",
    "    #Element-wise multiplication\n",
    "    #Matrix multiplication\n",
    "\n",
    "a = np.random.randint(1,10,(3,3))\n",
    "b = np.random.randint(1,10,(3,3))\n",
    "\n",
    "    #Element-wise addition\n",
    "a+b\n",
    "    #Element-wise multiplication\n",
    "a*b\n",
    "    #Matrix multiplication\n",
    "matmul = np.matmul(a,b)\n",
    "matmul\n"
   ]
  },
  {
   "cell_type": "code",
   "execution_count": null,
   "metadata": {},
   "outputs": [],
   "source": []
  }
 ],
 "metadata": {
  "kernelspec": {
   "display_name": "Python 3",
   "language": "python",
   "name": "python3"
  },
  "language_info": {
   "codemirror_mode": {
    "name": "ipython",
    "version": 3
   },
   "file_extension": ".py",
   "mimetype": "text/x-python",
   "name": "python",
   "nbconvert_exporter": "python",
   "pygments_lexer": "ipython3",
   "version": "3.12.3"
  }
 },
 "nbformat": 4,
 "nbformat_minor": 2
}
