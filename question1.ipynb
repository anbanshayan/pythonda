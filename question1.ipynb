{
 "cells": [
  {
   "cell_type": "code",
   "execution_count": 13,
   "metadata": {},
   "outputs": [
    {
     "data": {
      "text/plain": [
       "array([[-1, 75, -1],\n",
       "       [-1, 67, -1],\n",
       "       [-1, 17, -1]])"
      ]
     },
     "execution_count": 13,
     "metadata": {},
     "output_type": "execute_result"
    }
   ],
   "source": [
    "#Create a 3x3 NumPy array with random integers between 1 and 100. \n",
    "# Replace all even numbers in the array with -1.\n",
    "\n",
    "import numpy as np\n",
    "\n",
    "a = np.random.randint(1,101,(3,3))\n",
    "a[a%2 ==0] = -1\n",
    "a"
   ]
  },
  {
   "cell_type": "code",
   "execution_count": 9,
   "metadata": {},
   "outputs": [
    {
     "name": "stdout",
     "output_type": "stream",
     "text": [
      "sum of row =  [17 17 25 25]\n",
      "sum of col =  [21 15 32 16]\n"
     ]
    }
   ],
   "source": [
    "#Write a function to calculate the row-wise sum and column-wise sum of a given 4x4 NumPy array.\n",
    "\n",
    "b = np.random.randint(1,11,(4,4))\n",
    "b\n",
    "\n",
    "row_sum = b.sum(axis=0)\n",
    "col_sum = b.sum(axis=1)\n",
    "print(\"sum of row = \",row_sum)\n",
    "print(\"sum of col = \",col_sum)"
   ]
  },
  {
   "cell_type": "code",
   "execution_count": 15,
   "metadata": {},
   "outputs": [
    {
     "data": {
      "text/plain": [
       "array([[0.        , 0.05263158, 0.10526316, 0.15789474, 0.21052632],\n",
       "       [0.26315789, 0.31578947, 0.36842105, 0.42105263, 0.47368421],\n",
       "       [0.52631579, 0.57894737, 0.63157895, 0.68421053, 0.73684211],\n",
       "       [0.78947368, 0.84210526, 0.89473684, 0.94736842, 1.        ]])"
      ]
     },
     "execution_count": 15,
     "metadata": {},
     "output_type": "execute_result"
    }
   ],
   "source": [
    "#Create a 1D NumPy array with 20 equally spaced values between 0 and 1. Then, reshape it into a 4x5 2D array.\n",
    "\n",
    "c = np.linspace(0,1,20)\n",
    "c\n",
    "c_reshape = c.reshape(4,5)\n",
    "c_reshape"
   ]
  },
  {
   "cell_type": "code",
   "execution_count": 21,
   "metadata": {},
   "outputs": [
    {
     "data": {
      "text/plain": [
       "array([[ 74,  53,  53],\n",
       "       [160, 128,  80],\n",
       "       [ 54,  43,  27]])"
      ]
     },
     "execution_count": 21,
     "metadata": {},
     "output_type": "execute_result"
    }
   ],
   "source": [
    "#Given two NumPy arrays, A and B, perform the following operations:\n",
    "\n",
    "    #Element-wise addition\n",
    "    #Element-wise multiplication\n",
    "    #Matrix multiplication\n",
    "\n",
    "a = np.random.randint(1,10,(3,3))\n",
    "b = np.random.randint(1,10,(3,3))\n",
    "\n",
    "    #Element-wise addition\n",
    "a+b\n",
    "    #Element-wise multiplication\n",
    "a*b\n",
    "    #Matrix multiplication\n",
    "matmul = np.matmul(a,b)\n",
    "matmul\n"
   ]
  },
  {
   "cell_type": "code",
   "execution_count": 24,
   "metadata": {},
   "outputs": [
    {
     "data": {
      "text/plain": [
       "array([10, 12, 14, 45, 52, 78, 85, 96])"
      ]
     },
     "execution_count": 24,
     "metadata": {},
     "output_type": "execute_result"
    }
   ],
   "source": [
    "#Write a NumPy program to extract all the unique elements from a given array and sort them in ascending order.\n",
    "f = np.array([45,78,96,52,14,45,85,78,10,12,10])\n",
    "sort = np.unique(f)\n",
    "sort"
   ]
  },
  {
   "cell_type": "code",
   "execution_count": 24,
   "metadata": {},
   "outputs": [
    {
     "name": "stdout",
     "output_type": "stream",
     "text": [
      "2\n",
      "3\n",
      "5\n",
      "7\n",
      "11\n",
      "13\n",
      "17\n",
      "19\n",
      "23\n",
      "29\n",
      "31\n",
      "37\n",
      "41\n",
      "43\n",
      "47\n",
      "53\n",
      "59\n",
      "61\n",
      "67\n",
      "71\n",
      "73\n",
      "79\n",
      "83\n",
      "89\n",
      "97\n"
     ]
    },
    {
     "data": {
      "text/plain": [
       "array([], dtype=float64)"
      ]
     },
     "execution_count": 24,
     "metadata": {},
     "output_type": "execute_result"
    }
   ],
   "source": [
    "#Create a 1D NumPy array with values ranging from 1 to 100. Then filter and return all the prime numbers from the array.\n",
    "one_d = np.arange(1,101)\n",
    "\n",
    "#Function to find prime number\n",
    "def prime(x):\n",
    "    count = 0    \n",
    "    for i in range(1,x+1):\n",
    "        if x % i == 0:\n",
    "            count += 1\n",
    "    if count ==2:\n",
    "        print(x)\n",
    "    # else:\n",
    "    #     print(\"not prime\")\n",
    "\n",
    "prime_list = []\n",
    "\n",
    "for num in one_d:\n",
    "    if prime(num):\n",
    "        prime_list.append(num)\n",
    "\n",
    "primes_array = np.array(prime_list)\n",
    "primes_array"
   ]
  },
  {
   "cell_type": "code",
   "execution_count": 27,
   "metadata": {},
   "outputs": [
    {
     "name": "stdout",
     "output_type": "stream",
     "text": [
      "[4 8 9 9]\n",
      "[2 5 6 3]\n",
      "[8 9 9]\n",
      "[2 4 2]\n"
     ]
    }
   ],
   "source": [
    "#Write a NumPy program to find the maximum element along each row and each column of a given 3x4 array.\n",
    "\n",
    "num_array = np.random.randint(1,10,(3,4))\n",
    "num_array\n",
    "\n",
    "row_max = num_array.max(axis=0)\n",
    "row_min = num_array.min(axis=0)\n",
    "col_max = num_array.max(axis=1)\n",
    "col_min = num_array.min(axis=1)\n",
    "\n",
    "print(row_max)\n",
    "print(row_min)\n",
    "print(col_max)\n",
    "print(col_min)"
   ]
  },
  {
   "cell_type": "code",
   "execution_count": 32,
   "metadata": {},
   "outputs": [
    {
     "data": {
      "text/plain": [
       "array([[7., 1., 1., 1., 1., 1.],\n",
       "       [1., 7., 1., 1., 1., 1.],\n",
       "       [1., 1., 7., 1., 1., 1.],\n",
       "       [1., 1., 1., 7., 1., 1.],\n",
       "       [1., 1., 1., 1., 7., 1.],\n",
       "       [1., 1., 1., 1., 1., 7.]])"
      ]
     },
     "execution_count": 32,
     "metadata": {},
     "output_type": "execute_result"
    }
   ],
   "source": [
    "#Create a 6x6 identity matrix, and then replace all the diagonal elements with the number 7.\n",
    "arr1 = np.ones((6,6))\n",
    "np.fill_diagonal(arr1,7)\n",
    "arr1"
   ]
  },
  {
   "cell_type": "code",
   "execution_count": 34,
   "metadata": {},
   "outputs": [
    {
     "name": "stdout",
     "output_type": "stream",
     "text": [
      "Indices of Elements Greater Than 50:\n",
      " [[0 2]\n",
      " [1 2]\n",
      " [1 4]\n",
      " [2 0]\n",
      " [2 1]\n",
      " [2 4]\n",
      " [3 2]\n",
      " [3 3]\n",
      " [3 4]]\n"
     ]
    }
   ],
   "source": [
    "#Write a function that takes a 2D NumPy array and returns the indices of all elements greater than a given threshold.\n",
    "\n",
    "gut = np.random.randint(1,101,(4,5))\n",
    "gut\n",
    "\n",
    "threshold = 50\n",
    "\n",
    "indices = np.argwhere(gut>threshold)\n",
    "print(f\"Indices of Elements Greater Than {threshold}:\\n\", indices)"
   ]
  },
  {
   "cell_type": "code",
   "execution_count": null,
   "metadata": {},
   "outputs": [],
   "source": [
    "#Generate a 5x5 NumPy array with random values and normalize the array (i.e., scale all values to be between 0 and 1)."
   ]
  }
 ],
 "metadata": {
  "kernelspec": {
   "display_name": "Python 3",
   "language": "python",
   "name": "python3"
  },
  "language_info": {
   "codemirror_mode": {
    "name": "ipython",
    "version": 3
   },
   "file_extension": ".py",
   "mimetype": "text/x-python",
   "name": "python",
   "nbconvert_exporter": "python",
   "pygments_lexer": "ipython3",
   "version": "3.12.3"
  }
 },
 "nbformat": 4,
 "nbformat_minor": 2
}
