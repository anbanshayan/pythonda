{
 "cells": [
  {
   "cell_type": "code",
   "execution_count": 1,
   "metadata": {},
   "outputs": [
    {
     "name": "stdout",
     "output_type": "stream",
     "text": [
      "Hello Data Analyst\n",
      "Addition =  11\n",
      "100\n",
      "25\n"
     ]
    }
   ],
   "source": [
    "print(\"Hello Data Analyst\")\n",
    "print(\"Addition = \",5+6)\n",
    "\n",
    "def myfunc(a,b):\n",
    "    return a+b\n",
    "\n",
    "print(myfunc(45,55))\n",
    "\n",
    "def myroot(x):\n",
    "    return(x**2)\n",
    "\n",
    "print(myroot(5))"
   ]
  }
 ],
 "metadata": {
  "kernelspec": {
   "display_name": "Python 3",
   "language": "python",
   "name": "python3"
  },
  "language_info": {
   "codemirror_mode": {
    "name": "ipython",
    "version": 3
   },
   "file_extension": ".py",
   "mimetype": "text/x-python",
   "name": "python",
   "nbconvert_exporter": "python",
   "pygments_lexer": "ipython3",
   "version": "3.12.3"
  }
 },
 "nbformat": 4,
 "nbformat_minor": 2
}
