{
 "cells": [
  {
   "cell_type": "code",
   "execution_count": 2,
   "metadata": {},
   "outputs": [
    {
     "name": "stdout",
     "output_type": "stream",
     "text": [
      "Hello Data Analyst\n",
      "Addition =  11\n",
      "100\n",
      "25\n",
      "12\n"
     ]
    }
   ],
   "source": [
    "print(\"Hello Data Analyst\")\n",
    "print(\"Addition = \",5+6)\n",
    "\n",
    "def myfunc(a,b):\n",
    "    return a+b\n",
    "\n",
    "print(myfunc(45,55))\n",
    "\n",
    "def myroot(x):\n",
    "    return(x**2)\n",
    "\n",
    "print(myroot(5))\n",
    "\n",
    "class sample:\n",
    "    x=12\n",
    "\n",
    "p1 = sample()\n",
    "print(p1.x)"
   ]
  },
  {
   "cell_type": "code",
   "execution_count": 6,
   "metadata": {},
   "outputs": [
    {
     "name": "stdout",
     "output_type": "stream",
     "text": [
      "Anban\n",
      "56\n"
     ]
    }
   ],
   "source": [
    "class person:\n",
    "    def __init__(self,name,age):\n",
    "        self.name = name\n",
    "        self.age = age\n",
    "\n",
    "dad = person(\"Anban\",56)\n",
    "print(dad.name)\n",
    "print(dad.age)"
   ]
  },
  {
   "cell_type": "code",
   "execution_count": 7,
   "metadata": {},
   "outputs": [
    {
     "name": "stdout",
     "output_type": "stream",
     "text": [
      "UCSC\n",
      "2002\n"
     ]
    }
   ],
   "source": [
    "class faculty:\n",
    "    def __init__(self,name,year):\n",
    "        self.name = name\n",
    "        self.year = year\n",
    "\n",
    "school = faculty(\"UCSC\",2002)\n",
    "print(school.name)\n",
    "print(school.year)"
   ]
  },
  {
   "cell_type": "code",
   "execution_count": null,
   "metadata": {},
   "outputs": [],
   "source": []
  }
 ],
 "metadata": {
  "kernelspec": {
   "display_name": "Python 3",
   "language": "python",
   "name": "python3"
  },
  "language_info": {
   "codemirror_mode": {
    "name": "ipython",
    "version": 3
   },
   "file_extension": ".py",
   "mimetype": "text/x-python",
   "name": "python",
   "nbconvert_exporter": "python",
   "pygments_lexer": "ipython3",
   "version": "3.12.3"
  }
 },
 "nbformat": 4,
 "nbformat_minor": 2
}
